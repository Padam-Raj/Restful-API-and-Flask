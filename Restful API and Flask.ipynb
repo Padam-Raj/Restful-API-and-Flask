{
 "cells": [
  {
   "cell_type": "markdown",
   "id": "37878086-035b-4059-ba6a-209ec6f27e85",
   "metadata": {
    "jp-MarkdownHeadingCollapsed": true
   },
   "source": [
    "# Restful API & Flask"
   ]
  },
  {
   "cell_type": "markdown",
   "id": "13cfc447-3dc8-4821-b71e-6962b0954795",
   "metadata": {},
   "source": [
    "Ques 1. What is a RESTful API?"
   ]
  },
  {
   "cell_type": "raw",
   "id": "302fac46-0e34-408e-ab51-caf512621347",
   "metadata": {},
   "source": [
    "\"\"\"\n",
    "A RESTful API (Representational State Transfer API) is a way for computer systems to communicate \n",
    "over the internet using the HTTP protocol in a standardized, stateless manner. It's based on REST \n",
    "architecture, a set of constraints for building scalable web services.\n",
    "\n",
    "\"\"\""
   ]
  },
  {
   "cell_type": "markdown",
   "id": "23813914-fae8-49e1-bf0a-178d80fb4593",
   "metadata": {},
   "source": [
    "Ques 2. Explain the concept of API specification."
   ]
  },
  {
   "cell_type": "raw",
   "id": "3cc2862c-6b8d-4297-ba98-8c34498ce281",
   "metadata": {},
   "source": [
    "\"\"\"\n",
    "An API specification is a detailed, structured document or description that defines how an API works. \n",
    "It acts like a contract between the API provider and its users, outlining the rules, inputs, outputs, \n",
    "and behavior of the API.\n",
    "\"\"\""
   ]
  },
  {
   "cell_type": "markdown",
   "id": "71428a17-112b-4ab1-8526-836fd9fc222d",
   "metadata": {},
   "source": [
    "Ques 3. What is Flask, and why is it popular for building APIs?"
   ]
  },
  {
   "cell_type": "raw",
   "id": "2390215f-1b3b-48ac-87e9-ab4301c646c4",
   "metadata": {},
   "source": [
    "\"\"\"\n",
    "Flask is a lightweight Python web framework used to build APIs. It's popular due to its simplicity, \n",
    "flexibility, and minimal setup, making it ideal for quick development, small apps, and microservices.\n",
    "\"\"\""
   ]
  },
  {
   "cell_type": "markdown",
   "id": "21c5c41f-7e8c-47d9-be47-f9d6c470d49d",
   "metadata": {},
   "source": [
    "Ques 4. What is routing in Flask?"
   ]
  },
  {
   "cell_type": "raw",
   "id": "560fd438-3622-45a5-b26a-b3cd0b216b43",
   "metadata": {},
   "source": [
    "\"\"\"\n",
    "Routing in Flask is the process of mapping URLs to Python functions (called view functions). \n",
    "It defines what code runs when a specific URL is accessed.\n",
    "\"\"\""
   ]
  },
  {
   "cell_type": "markdown",
   "id": "c5e795c9-0b96-4df5-832a-c490605f5e34",
   "metadata": {},
   "source": [
    "Ques 5. How do you create a simple Flask application?"
   ]
  },
  {
   "cell_type": "raw",
   "id": "86081f3c-ad20-4ec3-8f80-54d823b7d220",
   "metadata": {},
   "source": [
    "\"\"\"\n",
    "Install Flask → Create a file → Define a route with @app.route() → Run the server.\n",
    "\n",
    "from flask import Flask\n",
    "\n",
    "app = Flask(__name__)\n",
    "\n",
    "@app.route('/')\n",
    "def home():\n",
    "    return \"Hello, Flask!\"\n",
    "\n",
    "if __name__ == '__main__':\n",
    "    app.run(debug=True\n",
    "\n",
    "Flask(__name__) creates the Flask app.\n",
    "@app.route('/') defines the route for the homepage.\n",
    "app.run(debug=True) runs the server in debug mode so you can see changes without restarting.\n",
    "\n",
    "\"\"\""
   ]
  },
  {
   "cell_type": "markdown",
   "id": "861fdbb0-0d06-476b-b30d-25da362744d7",
   "metadata": {},
   "source": [
    "Ques 6. What are HTTP methods used in RESTful APIs?"
   ]
  },
  {
   "cell_type": "raw",
   "id": "a4d76703-7b25-415a-b3cc-6029fab6f5a1",
   "metadata": {},
   "source": [
    "\"\"\"\n",
    "HTTP Methods Used in RESTful APIs:\n",
    "\n",
    "GET:\n",
    "Retrieves data from the server.\n",
    "Example: GET /users/1 – fetch user with ID 1.\n",
    "\n",
    "\n",
    "POST:\n",
    "Creates a new resource on the server.\n",
    "Example: POST /users – add a new user.\n",
    "\n",
    "\n",
    "PUT:\n",
    "Replaces an existing resource entirely.\n",
    "Example: PUT /users/1 – update all data for user 1.\n",
    "\n",
    "\n",
    "PATCH:\n",
    "Updates part of an existing resource.\n",
    "Example: PATCH /users/1 – change only specific fields.\n",
    "\n",
    "\n",
    "DELETE:\n",
    "Removes a resource from the server.\n",
    "Example: DELETE /users/1 – delete user 1.\n",
    "\"\"\""
   ]
  },
  {
   "cell_type": "markdown",
   "id": "c52a22fe-995c-45f4-ab11-a4441e6b4a1f",
   "metadata": {},
   "source": [
    "Ques 7. What is the purpose of the @app.route() and POST HTTP methods?"
   ]
  },
  {
   "cell_type": "raw",
   "id": "6ea825a4-8b57-4d1d-9d8e-f8e65d6a28b6",
   "metadata": {},
   "source": [
    "\"\"\"\n",
    "Purpose of @app.route():\n",
    "It defines a route in a Flask application.\n",
    "Maps a URL path to a Python function (called a view).\n",
    "\n",
    "\n",
    "Purpose of POST HTTP Method:\n",
    "Used to send data to the server to create a new resource.\n",
    "Commonly used with forms or JSON payloads.\n",
    "\"\"\""
   ]
  },
  {
   "cell_type": "markdown",
   "id": "66acfdfc-ad31-408e-874b-f1fb18d125cd",
   "metadata": {},
   "source": [
    "Ques 8. What is the difference between GET and POST HTTP methods?"
   ]
  },
  {
   "cell_type": "raw",
   "id": "b65ed736-e3ac-429a-8058-9db9d6c4cc9e",
   "metadata": {},
   "source": [
    "\"\"\"\n",
    "GET\n",
    "1. Retrieves data from the server.\n",
    "2. Parameters are sent in the URL (query string).\n",
    "3. Requests are idempotent (safe to repeat without side effects).\n",
    "4. Data length is limited by URL length.\n",
    "5. Used for fetching or reading data.\n",
    "\n",
    "\n",
    "POST\n",
    "1. Sends data to the server to create or update a resource.\n",
    "2. Parameters are sent in the request body.\n",
    "3. Requests may change server state (not idempotent).\n",
    "4. Can send large amounts of data.\n",
    "5. Used for submitting forms or uploading data.\n",
    "\n",
    "\"\"\""
   ]
  },
  {
   "cell_type": "markdown",
   "id": "c23ea2c3-33a4-4415-a772-c55242c092c9",
   "metadata": {},
   "source": [
    "Ques 9. How do you handle errors in Flasks APIs?"
   ]
  },
  {
   "cell_type": "raw",
   "id": "7ee5ff66-cc8f-4730-a896-9282c6f74c68",
   "metadata": {},
   "source": [
    "\"\"\"\n",
    "In Flask APIs, errors are handled by catching exceptions and returning appropriate HTTP status codes \n",
    "and error messages. You can:\n",
    "1. Use @app.errorhandler() to define custom error handlers for specific HTTP errors (e.g., 404, 400).\n",
    "2. Manually return error responses with jsonify() and status codes in your route functions.\n",
    "3. Raise exceptions like abort(404) to trigger error handlers.\n",
    "\"\"\""
   ]
  },
  {
   "cell_type": "markdown",
   "id": "88b126cb-75b2-440a-bf19-5ad6c4a60e01",
   "metadata": {},
   "source": [
    "Ques 10.How do you connect Flask to a SQL database?"
   ]
  },
  {
   "cell_type": "raw",
   "id": "6a06324b-3e46-4833-bc36-af7dba51b2d7",
   "metadata": {},
   "source": [
    "\"\"\"\n",
    "To connect Flask to a SQL database, the most common and convenient way is to use the Flask-SQLAlchemy extension. \n",
    "\n",
    "First, install Flask-SQLAlchemy and then configure Flask app by setting the database URI, which tells Flask where to find the database—for example, \n",
    "using SQLite with 'sqlite:///mydatabase.db'. \n",
    "After initializing the extension with your app, define database tables as Python classes called models, where each class represents a table and its columns. Once models are defined, create the actual database and tables by calling db.create_all() within your app’s context. \n",
    "After this setup, perform database operations like adding, querying, or updating records using SQLAlchemy’s session API. While it’s possible to connect to databases using lower-level libraries, Flask-SQLAlchemy streamlines the process and integrates neatly with Flask’s structure, making database interactions cleaner and more manageable.\n",
    "\n",
    "\"\"\""
   ]
  },
  {
   "cell_type": "markdown",
   "id": "a5b993b0-fafa-4400-8773-9a247694a136",
   "metadata": {},
   "source": [
    "Ques 11.What is the role of Flask-SQLAlchemy?"
   ]
  },
  {
   "cell_type": "raw",
   "id": "4950c768-cbdf-49ec-83b2-83bd1efdd9e0",
   "metadata": {},
   "source": [
    "\"\"\"\n",
    "Flask-SQLAlchemy is an extension that integrates SQLAlchemy with Flask to make working with databases easier. SQLAlchemy is a powerful SQL toolkit and Object-Relational Mapper (ORM) for Python, and Flask-SQLAlchemy simplifies its setup and usage in Flask applications.\n",
    "The main role of Flask-SQLAlchemy is to let you interact with your database using Python classes instead of writing raw SQL. You define models as classes, and each class represents a table in the database. Flask-SQLAlchemy handles creating tables, querying data, and managing database sessions.\n",
    "It also provides a clean and consistent way to configure your database connection, whether you're using SQLite, PostgreSQL, MySQL, or another supported database. Overall, Flask-SQLAlchemy helps streamline database operations, reduce boilerplate code, and improve maintainability in Flask apps.\n",
    "\"\"\""
   ]
  },
  {
   "cell_type": "markdown",
   "id": "4405014e-41b0-4d92-a065-e6a0b197d276",
   "metadata": {},
   "source": [
    "Ques 12.What are Flask blueprints, and how are they useful?"
   ]
  },
  {
   "cell_type": "raw",
   "id": "1058fbb8-0625-42df-b2b6-b983ca4e853a",
   "metadata": {},
   "source": [
    "\"\"\"\n",
    "Flask blueprints are a way to organize a Flask application into smaller, reusable components. They allow you to split your app into multiple modules, each with its own routes, templates, and static files. This is especially useful for larger applications where keeping everything in one file would be hard to manage.\n",
    "With blueprints, you can define a group of related routes in a separate file and then register that blueprint with the main Flask app. This promotes cleaner code and better modularity. For example, you might have a users blueprint to handle user-related routes and an admin blueprint for admin functions.\n",
    "Blueprints also make it easier to reuse code across projects, enable clearer team collaboration, and support features like URL prefixes or route grouping. Overall, they help keep Flask apps organized and scalable.\n",
    "\"\"\""
   ]
  },
  {
   "cell_type": "markdown",
   "id": "b61bbef5-181f-457c-bc55-27be3168be39",
   "metadata": {},
   "source": [
    "Ques 13. What id the purpose of Flask's request object?"
   ]
  },
  {
   "cell_type": "raw",
   "id": "125ee8f5-e65c-4d37-a100-468107faa4ab",
   "metadata": {},
   "source": [
    "\"\"\"\n",
    "The purpose of Flask's request object is to give you access to all the data sent by the client in an HTTP request. It lets you retrieve things like form inputs, JSON data, query parameters, headers, cookies, and the HTTP method used.\n",
    "\"\"\""
   ]
  },
  {
   "cell_type": "markdown",
   "id": "6b66bbd6-3509-4956-afa9-988923ad491c",
   "metadata": {},
   "source": [
    "Ques 14. How do you create a RESTful API endpoint using Flask?"
   ]
  },
  {
   "cell_type": "raw",
   "id": "c22b4e5f-e07d-4f35-9231-f7d3d65646e6",
   "metadata": {},
   "source": [
    "\"\"\"\n",
    "To create a RESTful API endpoint using Flask, you define a route and use Flask's decorators to handle different HTTP methods like GET, POST, PUT, and DELETE.\n",
    "\n",
    "\n",
    "Create a Sample Endpoint-\n",
    "# Sample data\n",
    "users = [\n",
    "    {\"id\": 1, \"name\": \"Padam\"},\n",
    "    {\"id\": 2, \"name\": \"Raj\"}\n",
    "]\n",
    "\n",
    "# GET all users\n",
    "@app.route('/api/users', methods=['GET'])\n",
    "def get_users():\n",
    "    return jsonify(users)\n",
    "\n",
    "# GET a single user by ID\n",
    "@app.route('/api/users/<int:user_id>', methods=['GET'])\n",
    "def get_user(user_id):\n",
    "    user = next((u for u in users if u[\"id\"] == user_id), None)\n",
    "    if user:\n",
    "        return jsonify(user)\n",
    "    return jsonify({\"error\": \"User not found\"}), 404\n",
    "\n",
    "# POST a new user\n",
    "@app.route('/api/users', methods=['POST'])\n",
    "def create_user():\n",
    "    data = request.get_json()\n",
    "    new_user = {\"id\": len(users) + 1, \"name\": data[\"name\"]}\n",
    "    users.append(new_user)\n",
    "    return jsonify(new_user), 201\n",
    "\n",
    "\"\"\""
   ]
  },
  {
   "cell_type": "markdown",
   "id": "887eb647-a372-4637-93eb-e2ea8078e2d1",
   "metadata": {},
   "source": [
    "Ques 15.What is the purpose of Flask's jsonify() function?"
   ]
  },
  {
   "cell_type": "raw",
   "id": "f65e9b2e-f41a-4f36-83ed-f084ee8f14b4",
   "metadata": {},
   "source": [
    "\"\"\"\n",
    "Flask's jsonify() function is used to convert Python data structures, such as dictionaries and lists, into a valid JSON response. It automatically sets the correct Content-Type header to application/json, which tells the client (like a browser or JavaScript frontend) that the response is in JSON format. This is especially useful when building APIs, where data is exchanged in JSON between the server and client. \n",
    "\n",
    "For example, \n",
    "\n",
    "jsonify({\"name\": \"Alice\", \"age\": 30}) \n",
    "\n",
    "This will return a properly formatted JSON response with status code 200 and the correct headers, making it more reliable and convenient than manually using json.dumps().\n",
    "\"\"\""
   ]
  },
  {
   "cell_type": "markdown",
   "id": "e77a0a00-b9f2-4ca1-9fac-5cc47f7b9acf",
   "metadata": {},
   "source": [
    "Ques 16.Explain Flask's url_for() function."
   ]
  },
  {
   "cell_type": "raw",
   "id": "2684fbc2-b030-4de3-9bd4-3b6aad545100",
   "metadata": {},
   "source": [
    "\"\"\"\n",
    "Flask’s url_for() function is used to dynamically generate URLs for routes in your application based on the name of the view function. Instead of hardcoding paths into your HTML or Python code, you use url_for() to create them. This makes your application more maintainable, especially if routes change later. For example, if you have a view function named home defined for the '/' route, calling url_for('home') will return \"/\". You can also pass parameters to build URLs with dynamic parts, like url_for('profile', username='john') for a route such as '/user/<username>'. In HTML templates, url_for() is commonly used with Jinja2 to link pages or static files, like <a href=\"{{ url_for('home') }}\">Home</a>. It also handles proper URL encoding and escaping, making it a safe and convenient way to manage links within your Flask app.\n",
    "\"\"\""
   ]
  },
  {
   "cell_type": "markdown",
   "id": "64c2add1-993c-49fc-b822-4f5335cb6754",
   "metadata": {},
   "source": [
    "Ques 17.How does Flask handle static files (CSS, JavaScript, etc.)?"
   ]
  },
  {
   "cell_type": "raw",
   "id": "3bd873fc-4584-4101-9a01-45e4aefb4e4f",
   "metadata": {},
   "source": [
    "\"\"\"\n",
    "Flask handles static files like CSS, JavaScript, and images through a special folder named static. By default, this folder is placed at the root level of your Flask project. Flask automatically serves any files inside this folder.\n",
    "To include static files in your HTML templates, you use the url_for() function. For example, to load a CSS file, you write:\n",
    "\n",
    "<link rel=\"stylesheet\" href=\"{{ url_for('static', filename='style.css') }}\">\n",
    "\n",
    "When Flask sees url_for('static', ...), it generates a URL like /static/style.css. The development server then serves the file from the static directory.\n",
    "You can also change the name or location of the static folder by passing a static_folder argument when creating your Flask app. For example:\n",
    "\n",
    "app = Flask(__name__, static_folder='assets')\n",
    "\"\"\""
   ]
  },
  {
   "cell_type": "markdown",
   "id": "d4aa2f2a-d92c-4a28-b277-cf1a91a9ff5d",
   "metadata": {},
   "source": [
    "Ques 18.What is an API specification, and how does it help in building a Flask API?"
   ]
  },
  {
   "cell_type": "raw",
   "id": "912fe5e1-c99f-4267-a697-6b0da8c65dcd",
   "metadata": {},
   "source": [
    "\"\"\"\n",
    "An API specification is a formal document that defines the structure, endpoints, request/response formats, \n",
    "and behaviors of an API. It acts as a blueprint describing how clients should interact with the API.\n",
    "\n",
    "It Helps in Building a Flask API:\n",
    "1. Provides clear guidelines for designing endpoints and data formats.\n",
    "2. Enables automatic documentation generation (e.g., Swagger UI).\n",
    "3. Facilitates validation and consistency in request handling.\n",
    "4. Allows collaboration between frontend and backend teams.\n",
    "5. Can be used to generate client SDKs or testing tools.\n",
    "\"\"\""
   ]
  },
  {
   "cell_type": "markdown",
   "id": "904aaf8f-9255-4c8f-8c3d-357208239af7",
   "metadata": {},
   "source": [
    "Ques 19.What are HTTP status codes, and why are they important in a Flask API?"
   ]
  },
  {
   "cell_type": "raw",
   "id": "c4374cae-97c8-4626-aa9d-b721bd2ef7d0",
   "metadata": {},
   "source": [
    "\"\"\"\n",
    "HTTP status codes are standardized numbers sent by a server to indicate the result of a client’s request. \n",
    "They tell the client whether the request was successful, redirected, had a client error, or a server error.\n",
    "They’re Important in a Flask API:\n",
    "1. Communicate outcome clearly (e.g., 200 OK, 404 Not Found, 500 Internal Server Error).\n",
    "2. Help clients handle responses correctly.\n",
    "3. Improve API usability and debugging.\n",
    "4. Follow RESTful best practices by signaling success or failure explicitly.\n",
    "\"\"\""
   ]
  },
  {
   "cell_type": "markdown",
   "id": "09ba5026-3be5-4a1c-a1a2-f514ccf26d33",
   "metadata": {},
   "source": [
    "Ques 20.How do you handle POST requests in Flask?"
   ]
  },
  {
   "cell_type": "raw",
   "id": "ad7718ac-3083-4956-a7fb-be54ad4d32a2",
   "metadata": {},
   "source": [
    "\"\"\"\n",
    "To handle POST requests in Flask:\n",
    "1. Define a route with methods=['POST'].\n",
    "2. Access incoming data via request.form (for form data) or request.get_json() (for JSON payload).\n",
    "3. Process the data and return a response.\n",
    "\"\"\""
   ]
  },
  {
   "cell_type": "markdown",
   "id": "ce21b1e0-ea05-4bec-9608-b3386fc79728",
   "metadata": {},
   "source": [
    "Ques 21.How would you secure a Flask API?"
   ]
  },
  {
   "cell_type": "raw",
   "id": "9df6e79b-080c-4cba-8f33-1d8139494ffa",
   "metadata": {},
   "source": [
    "\"\"\"\n",
    "1. Use Authentication — Implement token-based methods like JWT or OAuth to verify users.\n",
    "2. Enable HTTPS — Encrypt data in transit using SSL/TLS.\n",
    "3. Validate and Sanitize Input — Prevent injection attacks by validating all incoming data.\n",
    "4. Use Rate Limiting — Protect against abuse by limiting the number of requests per user/IP.\n",
    "5. Handle CORS Properly — Control which domains can access your API.\n",
    "6. Keep Secrets Safe — Store API keys and sensitive configs securely (e.g., environment variables).\n",
    "7. Use Flask Extensions like Flask-JWT-Extended or Flask-Limiter to simplify security tasks.\n",
    "\"\"\""
   ]
  },
  {
   "cell_type": "markdown",
   "id": "4e502672-4ed9-412e-b848-1784f276a62e",
   "metadata": {},
   "source": [
    "Ques 22.What is the significance of the Flask-RESTFul extension?"
   ]
  },
  {
   "cell_type": "raw",
   "id": "624a6fef-e508-4b0e-9089-b8431d79ecba",
   "metadata": {},
   "source": [
    "\"\"\"\n",
    "significance of Flask-RESTFul extension-\n",
    "1. Provides a Resource class to organize endpoints as Python classes.\n",
    "2. Handles HTTP method routing (GET, POST, etc.) cleanly via class methods.\n",
    "3. Automatically parses and validates request data.\n",
    "4. Simplifies generating consistent JSON responses.\n",
    "5. Integrates easily with Flask’s ecosystem.\n",
    "\"\"\""
   ]
  },
  {
   "cell_type": "markdown",
   "id": "f52cf18f-69ee-4293-9558-019855e03393",
   "metadata": {},
   "source": [
    "Ques 23.What is the role of Flask's session object?"
   ]
  },
  {
   "cell_type": "raw",
   "id": "60d400b3-d3a6-44ba-a2fa-85566860305e",
   "metadata": {},
   "source": [
    "\"\"\"\n",
    "Flask’s session object is used to store data specific to a user’s session between requests. \n",
    "It allows you to keep information like user login status or preferences across multiple requests \n",
    "without needing a database.\n",
    "1. Data in session is stored client-side (usually in a secure, encrypted cookie).\n",
    "2. It behaves like a dictionary: session['key'] = value.\n",
    "3. Useful for things like authentication, shopping carts, or temporary data.\n",
    "\"\"\""
   ]
  },
  {
   "cell_type": "code",
   "execution_count": null,
   "id": "299381aa-9f30-424e-aea5-60c2d52dd3bc",
   "metadata": {},
   "outputs": [],
   "source": []
  },
  {
   "cell_type": "code",
   "execution_count": null,
   "id": "840a2af3-e7ef-4990-a1bf-6622d11649e3",
   "metadata": {},
   "outputs": [],
   "source": []
  },
  {
   "cell_type": "markdown",
   "id": "f6682217-951c-479f-bd3b-93306e7b22ff",
   "metadata": {
    "jp-MarkdownHeadingCollapsed": true
   },
   "source": [
    "# Practical Questions"
   ]
  },
  {
   "cell_type": "markdown",
   "id": "83147186-e704-454a-ad6d-351807e01767",
   "metadata": {},
   "source": [
    "Ques 1. How do you create a basic Flask application?"
   ]
  },
  {
   "cell_type": "code",
   "execution_count": 5,
   "id": "fdbbf08a-b322-45a0-892a-24b55ea9403b",
   "metadata": {},
   "outputs": [],
   "source": [
    "from flask import Flask\n",
    "\n",
    "app = Flask(__name__)\n",
    "\n",
    "@app.route('/')\n",
    "def home():\n",
    "    return \"Hello, Flask!\"\n",
    "\n",
    "if __name__ == '__main__':\n",
    "    app.run(debug=True)"
   ]
  },
  {
   "cell_type": "markdown",
   "id": "cdd6c729-bcff-47c8-a35c-f8f4b8a11630",
   "metadata": {},
   "source": [
    "Ques 2. How do you serve static files like images or CSS in Flask?"
   ]
  },
  {
   "cell_type": "code",
   "execution_count": null,
   "id": "a67cef81-0297-4697-8cbe-c88e5eca734b",
   "metadata": {},
   "outputs": [],
   "source": [
    "from flask import Flask, render_template, url_for\n",
    "\n",
    "app = Flask(__name__)\n",
    "\n",
    "@app.route('/')\n",
    "def home():\n",
    "    return render_template('index.html')\n",
    "\n",
    "if __name__ == '__main__':\n",
    "    app.run(debug=True)"
   ]
  },
  {
   "cell_type": "markdown",
   "id": "23a01e75-46a9-421e-a7fd-0025c0fce30d",
   "metadata": {},
   "source": [
    "Ques 3. How do you define different routes with different HTTP methods in Flask?"
   ]
  },
  {
   "cell_type": "code",
   "execution_count": null,
   "id": "2f5e31b2-f29e-435d-87fb-80031491d5a0",
   "metadata": {},
   "outputs": [],
   "source": [
    "from flask import Flask, request, jsonify\n",
    "\n",
    "app = Flask(__name__)\n",
    "\n",
    "@app.route('/item', methods=['GET', 'POST'])\n",
    "def item():\n",
    "    if request.method == 'GET':\n",
    "        return \"This is a GET request\"\n",
    "    elif request.method == 'POST':\n",
    "        data = request.get_json()\n",
    "        return jsonify({\"message\": \"POST received\", \"data\": data})\n",
    "\n",
    "if __name__ == '__main__':\n",
    "    app.run(debug=True)\n"
   ]
  },
  {
   "cell_type": "markdown",
   "id": "17857e35-13a0-43d5-825a-6772ba9edafd",
   "metadata": {},
   "source": [
    "Ques 4. How do you render HTML templates in Flask?"
   ]
  },
  {
   "cell_type": "code",
   "execution_count": null,
   "id": "da72b744-bd76-4591-a212-2ed2f79cb134",
   "metadata": {},
   "outputs": [],
   "source": [
    "from flask import Flask, render_template\n",
    "\n",
    "app = Flask(__name__)\n",
    "\n",
    "@app.route('/')\n",
    "def home():\n",
    "    return render_template('index.html')\n",
    "\n",
    "if __name__ == '__main__':\n",
    "    app.run(debug=True)\n"
   ]
  },
  {
   "cell_type": "markdown",
   "id": "0ce83111-642a-41e6-8197-73c3bce60ca4",
   "metadata": {},
   "source": [
    "Ques 5. How can you generate URLs for routes in Flask using url_for?"
   ]
  },
  {
   "cell_type": "code",
   "execution_count": null,
   "id": "ccd30fbd-1c3e-45c9-9810-981b717491da",
   "metadata": {},
   "outputs": [],
   "source": [
    "from flask import Flask, url_for\n",
    "\n",
    "app = Flask(__name__)\n",
    "\n",
    "@app.route('/')\n",
    "def home():\n",
    "    return \"Home Page\"\n",
    "\n",
    "@app.route('/user/<username>')\n",
    "def profile(username):\n",
    "    return f\"User: {username}\"\n",
    "\n",
    "@app.route('/show-urls')\n",
    "def show_urls():\n",
    "    home_url = url_for('home')\n",
    "    profile_url = url_for('profile', username='Padam')\n",
    "    return f\"Home URL: {home_url} <br> Profile URL: {profile_url}\"\n",
    "\n",
    "if __name__ == '__main__':\n",
    "    app.run(debug=True)\n"
   ]
  },
  {
   "cell_type": "markdown",
   "id": "f22ded88-bc9c-42d5-95fc-950c3bfb7548",
   "metadata": {},
   "source": [
    "Ques 6. How do you handle forms in Flask?"
   ]
  },
  {
   "cell_type": "code",
   "execution_count": null,
   "id": "659589b5-632d-41ee-830b-469f85087d30",
   "metadata": {},
   "outputs": [],
   "source": [
    "from flask import Flask, request, render_template, redirect, url_for\n",
    "\n",
    "app = Flask(__name__)\n",
    "\n",
    "@app.route('/form', methods=['GET', 'POST'])\n",
    "def form():\n",
    "    if request.method == 'POST':\n",
    "        name = request.form.get('name')\n",
    "        return f\"Hello, {name}!\"\n",
    "    return render_template('form.html')\n",
    "\n",
    "if __name__ == '__main__':\n",
    "    app.run(debug=True)\n"
   ]
  },
  {
   "cell_type": "markdown",
   "id": "173272f6-9e4f-450d-bd4b-14b03b93cc01",
   "metadata": {},
   "source": [
    "Ques 7. How can you validate form data in Flask?"
   ]
  },
  {
   "cell_type": "code",
   "execution_count": 2,
   "id": "4c43b9fa-d070-4eb4-94ae-32bbe6a3f442",
   "metadata": {},
   "outputs": [],
   "source": [
    "from flask import Flask, request, render_template, flash, redirect, url_for\n",
    "from flask_wtf import FlaskForm\n",
    "from wtforms import StringField, SubmitField\n",
    "from wtforms.validators import DataRequired, Length\n",
    "\n",
    "app = Flask(__name__)\n",
    "app.secret_key = 'your_secret_key'  # Required for CSRF protection and flashing messages\n",
    "\n",
    "class NameForm(FlaskForm):\n",
    "    name = StringField('Name', validators=[DataRequired(), Length(min=2, max=30)])\n",
    "    submit = SubmitField('Submit')\n",
    "\n",
    "@app.route('/form', methods=['GET', 'POST'])\n",
    "def form():\n",
    "    form = NameForm()\n",
    "    if form.validate_on_submit():\n",
    "        name = form.name.data\n",
    "        return f\"Hello, {name}!\"\n",
    "    return render_template('form.html', form=form)\n",
    "\n",
    "if __name__ == '__main__':\n",
    "    app.run(debug=True)"
   ]
  },
  {
   "cell_type": "markdown",
   "id": "7fe1a92d-6475-46a2-9fc1-cdb00f50a3fe",
   "metadata": {},
   "source": [
    "Ques 8. How do you manage sessions in Falsk?"
   ]
  },
  {
   "cell_type": "code",
   "execution_count": null,
   "id": "50341203-7f74-4fb2-9e4b-ce287f8892a3",
   "metadata": {},
   "outputs": [],
   "source": [
    "from flask import Flask, session, redirect, url_for, request\n",
    "\n",
    "app = Flask(__name__)\n",
    "app.secret_key = 'your_secret_key'  # Required to securely sign the session cookie\n",
    "\n",
    "@app.route('/login', methods=['GET', 'POST'])\n",
    "def login():\n",
    "    if request.method == 'POST':\n",
    "        username = request.form.get('username')\n",
    "        session['username'] = username  # Store username in session\n",
    "        return redirect(url_for('profile'))\n",
    "    return '''\n",
    "        <form method=\"POST\">\n",
    "            <input type=\"text\" name=\"username\" placeholder=\"Enter username\" required>\n",
    "            <button type=\"submit\">Login</button>\n",
    "        </form>\n",
    "    '''\n",
    "\n",
    "@app.route('/profile')\n",
    "def profile():\n",
    "    if 'username' in session:\n",
    "        return f\"Logged in as {session['username']}\"\n",
    "    return redirect(url_for('login'))\n",
    "\n",
    "@app.route('/logout')\n",
    "def logout():\n",
    "    session.pop('username', None)  # Remove username from session\n",
    "    return redirect(url_for('login'))\n",
    "\n",
    "if __name__ == '__main__':\n",
    "    app.run(debug=True)\n"
   ]
  },
  {
   "cell_type": "markdown",
   "id": "ab05d90e-89cc-4215-8018-623c179293ea",
   "metadata": {},
   "source": [
    "Ques 9. How do you redirect to a different route in Flask?"
   ]
  },
  {
   "cell_type": "code",
   "execution_count": null,
   "id": "c0843e53-c032-4675-9c95-61d74d06d08a",
   "metadata": {},
   "outputs": [],
   "source": [
    "from flask import Flask, redirect, url_for\n",
    "\n",
    "app = Flask(__name__)\n",
    "\n",
    "@app.route('/')\n",
    "def home():\n",
    "    return \"Welcome to the Home Page!\"\n",
    "\n",
    "@app.route('/go-to-home')\n",
    "def go_to_home():\n",
    "    return redirect(url_for('home'))\n",
    "\n",
    "if __name__ == '__main__':\n",
    "    app.run(debug=True)\n"
   ]
  },
  {
   "cell_type": "markdown",
   "id": "c754db8f-c76f-4054-8772-a28a3953c00d",
   "metadata": {},
   "source": [
    "Ques 10.How do you handle errors in Flask (e.g., 404)?"
   ]
  },
  {
   "cell_type": "code",
   "execution_count": null,
   "id": "d73f21eb-a4c2-42ba-a225-d389d50cfc7c",
   "metadata": {},
   "outputs": [],
   "source": [
    "from flask import Flask, render_template\n",
    "\n",
    "app = Flask(__name__)\n",
    "\n",
    "@app.route('/')\n",
    "def home():\n",
    "    return \"Welcome to the Home Page!\"\n",
    "\n",
    "@app.errorhandler(404)\n",
    "def page_not_found(e):\n",
    "    return render_template('404.html'), 404\n",
    "\n",
    "if __name__ == '__main__':\n",
    "    app.run(debug=True)\n"
   ]
  },
  {
   "cell_type": "markdown",
   "id": "04de1d13-daa6-44c0-8e17-810b06b84b7e",
   "metadata": {},
   "source": [
    "Ques 11.How do you structure a Flask app using Blueprints?"
   ]
  },
  {
   "cell_type": "code",
   "execution_count": 5,
   "id": "8e80a804-e918-498c-8724-99b44736be78",
   "metadata": {},
   "outputs": [],
   "source": [
    "from flask import Flask\n",
    "from blog import blog_bp\n",
    "from auth import auth_bp\n",
    "\n",
    "app = Flask(__name__)\n",
    "\n",
    "app.register_blueprint(blog_bp, url_prefix='/blog')\n",
    "app.register_blueprint(auth_bp, url_prefix='/auth')\n",
    "\n",
    "@app.route('/')\n",
    "def home():\n",
    "    return \"Home Page\"\n",
    "\n",
    "if __name__ == '__main__':\n",
    "    app.run(debug=True)"
   ]
  },
  {
   "cell_type": "markdown",
   "id": "2a37e19c-e9c3-461d-a16e-b04203b17c2e",
   "metadata": {},
   "source": [
    "Ques 12.How do you define a custom Jinja filter in Flask?"
   ]
  },
  {
   "cell_type": "code",
   "execution_count": null,
   "id": "9c4b261e-3b1b-466a-b0a4-157841e4de23",
   "metadata": {},
   "outputs": [],
   "source": [
    "from flask import Flask, render_template\n",
    "\n",
    "app = Flask(__name__)\n",
    "\n",
    "# Define a custom filter function\n",
    "def reverse_string(s):\n",
    "    return s[::-1]\n",
    "\n",
    "# Register the filter with Jinja\n",
    "app.jinja_env.filters['reverse'] = reverse_string\n",
    "\n",
    "@app.route('/')\n",
    "def home():\n",
    "    name = \"Flask\"\n",
    "    return render_template('index.html', name=name)\n",
    "\n",
    "if __name__ == '__main__':\n",
    "    app.run(debug=True)\n"
   ]
  },
  {
   "cell_type": "markdown",
   "id": "64af56a7-62cd-4234-b106-54479b719780",
   "metadata": {},
   "source": [
    "Ques 13.How can you redirect with query parameters in Flask?"
   ]
  },
  {
   "cell_type": "code",
   "execution_count": null,
   "id": "1b7deb20-edbd-4dbc-9d43-c120a4b43883",
   "metadata": {},
   "outputs": [],
   "source": [
    "from flask import Flask, redirect, url_for, request\n",
    "\n",
    "app = Flask(__name__)\n",
    "\n",
    "@app.route('/')\n",
    "def home():\n",
    "    param = request.args.get('param')\n",
    "    return f\"Received query parameter: {param}\"\n",
    "\n",
    "@app.route('/go')\n",
    "def go():\n",
    "    # Redirect to 'home' with a query parameter ?param=value\n",
    "    return redirect(url_for('home', param='hello'))\n",
    "\n",
    "if __name__ == '__main__':\n",
    "    app.run(debug=True)\n"
   ]
  },
  {
   "cell_type": "markdown",
   "id": "b2f0c9e9-3424-4eab-bcfb-5020e751ef67",
   "metadata": {},
   "source": [
    "Ques 14.How do you return JSON responses in Flask?"
   ]
  },
  {
   "cell_type": "code",
   "execution_count": null,
   "id": "e1062630-484b-4721-a620-130b461f14fb",
   "metadata": {},
   "outputs": [],
   "source": [
    "from flask import Flask, jsonify\n",
    "\n",
    "app = Flask(__name__)\n",
    "\n",
    "@app.route('/api/data')\n",
    "def data():\n",
    "    response = {\n",
    "        \"name\": \"Flask\",\n",
    "        \"type\": \"web framework\",\n",
    "        \"language\": \"Python\"\n",
    "    }\n",
    "    return jsonify(response)\n",
    "\n",
    "if __name__ == '__main__':\n",
    "    app.run(debug=True)\n"
   ]
  },
  {
   "cell_type": "markdown",
   "id": "d2547498-fff9-4402-9b3c-3b9e0451818e",
   "metadata": {},
   "source": [
    "Ques 15.How do you capture URL parameters in Flask?"
   ]
  },
  {
   "cell_type": "code",
   "execution_count": null,
   "id": "81860540-f422-44a7-86e3-fa543fede62a",
   "metadata": {},
   "outputs": [],
   "source": [
    "from flask import Flask\n",
    "\n",
    "app = Flask(__name__)\n",
    "\n",
    "@app.route('/user/<username>')\n",
    "def show_user(username):\n",
    "    return f\"User: {username}\"\n",
    "\n",
    "@app.route('/post/<int:post_id>')\n",
    "def show_post(post_id):\n",
    "    return f\"Post ID: {post_id}\"\n",
    "\n",
    "if __name__ == '__main__':\n",
    "    app.run(debug=True)\n"
   ]
  },
  {
   "cell_type": "code",
   "execution_count": null,
   "id": "a18d9bb9-f5b4-4f65-b274-f5905713ec2a",
   "metadata": {},
   "outputs": [],
   "source": []
  }
 ],
 "metadata": {
  "kernelspec": {
   "display_name": "Python 3 (ipykernel)",
   "language": "python",
   "name": "python3"
  },
  "language_info": {
   "codemirror_mode": {
    "name": "ipython",
    "version": 3
   },
   "file_extension": ".py",
   "mimetype": "text/x-python",
   "name": "python",
   "nbconvert_exporter": "python",
   "pygments_lexer": "ipython3",
   "version": "3.13.3"
  }
 },
 "nbformat": 4,
 "nbformat_minor": 5
}
